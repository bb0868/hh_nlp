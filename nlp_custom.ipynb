{
 "cells": [
  {
   "cell_type": "code",
   "execution_count": 1,
   "id": "969b7106-f259-4e59-8473-f837f5640c5d",
   "metadata": {},
   "outputs": [],
   "source": [
    "from datasets import load_dataset"
   ]
  },
  {
   "cell_type": "code",
   "execution_count": 2,
   "id": "6c950b72-0b29-4207-8832-77e222179ffb",
   "metadata": {},
   "outputs": [],
   "source": [
    "from datasets import Dataset, load_dataset\n",
    "import pandas as pd\n",
    "df = pd.read_csv('/notebooks/data/2022-10-25_az-lyrics-all.csv')\n",
    "\n",
    "#, nrows=1000"
   ]
  },
  {
   "cell_type": "code",
   "execution_count": 6,
   "id": "17195380-6999-4f43-bbb5-d5028ca9f148",
   "metadata": {},
   "outputs": [
    {
     "data": {
      "text/plain": [
       "Index(['artist', 'album', 'song', 'typed_by', 'url', 'lyric'], dtype='object')"
      ]
     },
     "execution_count": 6,
     "metadata": {},
     "output_type": "execute_result"
    }
   ],
   "source": [
    "df.columns"
   ]
  },
  {
   "cell_type": "code",
   "execution_count": 11,
   "id": "0642f3f8-41f5-41be-8ceb-67f593ffa479",
   "metadata": {},
   "outputs": [],
   "source": [
    "artist_list = pd.Series(df['artist'])"
   ]
  },
  {
   "cell_type": "code",
   "execution_count": 13,
   "id": "26174a7d-5e77-4783-9c0b-bead9a1c597f",
   "metadata": {},
   "outputs": [
    {
     "data": {
      "text/plain": [
       "0                                                03 Greedo\n",
       "1                                                03 Greedo\n",
       "2                                                03 Greedo\n",
       "3                                                070 Shake\n",
       "4                                                  69 Boyz\n",
       "                               ...                        \n",
       "17597                                              Chi-Ali\n",
       "17598    Chi-Ali f/ Dove (De La Soul), Dres, Phife, Fas...\n",
       "17599                                              Chi-Ali\n",
       "17600                                              Chi-Ali\n",
       "17601                                      Chi-Ali f/ Dove\n",
       "Name: artist, Length: 17602, dtype: object"
      ]
     },
     "execution_count": 13,
     "metadata": {},
     "output_type": "execute_result"
    }
   ],
   "source": [
    "artist_list"
   ]
  },
  {
   "cell_type": "code",
   "execution_count": null,
   "id": "c34665a6-93d0-4f55-b60a-a0a7da6f1414",
   "metadata": {},
   "outputs": [],
   "source": []
  }
 ],
 "metadata": {
  "kernelspec": {
   "display_name": "Python 3 (ipykernel)",
   "language": "python",
   "name": "python3"
  },
  "language_info": {
   "codemirror_mode": {
    "name": "ipython",
    "version": 3
   },
   "file_extension": ".py",
   "mimetype": "text/x-python",
   "name": "python",
   "nbconvert_exporter": "python",
   "pygments_lexer": "ipython3",
   "version": "3.9.13"
  }
 },
 "nbformat": 4,
 "nbformat_minor": 5
}
